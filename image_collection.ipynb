{
  "cells": [
    {
      "cell_type": "code",
      "execution_count": 165,
      "metadata": {
        "colab": {
          "base_uri": "https://localhost:8080/",
          "height": 122
        },
        "id": "Sj_w0-wRTUUe",
        "outputId": "3f19f921-2dd9-4745-fc54-88e004d9f140"
      },
      "outputs": [
        {
          "output_type": "execute_result",
          "data": {
            "text/plain": [
              "'\\nSTEPS\\n1. Find the image collection corresponding to LANDSAT7 data\\n2. Filter the collection to January 2005 outside of the rainy season\\n3. Load in village location data\\n4. Create function to load in lat and long data from each village row\\n5. Function creates EE.Geometry.Point object from each lat and long and sets a buffer of a certain radius\\n6. Function loads in all bands of data from that image and inputs it into correspond row of new dataframe\\n7. Function adds village category to each row\\n8. Train neural network to predict whether there is a village, destroyed village, or no settlmment in the image\\n'"
            ],
            "application/vnd.google.colaboratory.intrinsic+json": {
              "type": "string"
            }
          },
          "metadata": {},
          "execution_count": 165
        }
      ],
      "source": [
        "\"\"\"\n",
        "STEPS\n",
        "1. Find the image collection corresponding to LANDSAT7 data\n",
        "2. Filter the collection to January 2005 outside of the rainy season\n",
        "3. Load in village location data\n",
        "4. Create function to load in lat and long data from each village row\n",
        "5. Function creates EE.Geometry.Point object from each lat and long and sets a buffer of a certain radius\n",
        "6. Function loads in all bands of data from that image and inputs it into correspond row of new dataframe\n",
        "7. Function adds village category to each row\n",
        "8. Train neural network to predict whether there is a village, destroyed village, or no settlmment in the image\n",
        "\"\"\""
      ]
    },
    {
      "cell_type": "code",
      "source": [
        "#mount google drive\n",
        "from google.colab import drive\n",
        "drive.mount('/content/drive')"
      ],
      "metadata": {
        "colab": {
          "base_uri": "https://localhost:8080/"
        },
        "id": "lQBMv4H3TXET",
        "outputId": "ac24054a-3723-4993-fb57-91634a0f751b"
      },
      "execution_count": 166,
      "outputs": [
        {
          "output_type": "stream",
          "name": "stdout",
          "text": [
            "Drive already mounted at /content/drive; to attempt to forcibly remount, call drive.mount(\"/content/drive\", force_remount=True).\n"
          ]
        }
      ]
    },
    {
      "cell_type": "code",
      "execution_count": 167,
      "metadata": {
        "id": "dN0avB9oTUUg"
      },
      "outputs": [],
      "source": [
        "import ee\n",
        "import datetime\n",
        "import pandas as pd\n",
        "import matplotlib.pyplot as plt\n",
        "import numpy as np"
      ]
    },
    {
      "cell_type": "code",
      "execution_count": 168,
      "metadata": {
        "colab": {
          "base_uri": "https://localhost:8080/"
        },
        "id": "PcgWBbyUTUUg",
        "outputId": "1faaac48-d507-45f3-dfcf-787460a08aa5"
      },
      "outputs": [
        {
          "output_type": "execute_result",
          "data": {
            "text/plain": [
              "True"
            ]
          },
          "metadata": {},
          "execution_count": 168
        }
      ],
      "source": [
        "#Authenticaing API access\n",
        "ee.Authenticate()"
      ]
    },
    {
      "cell_type": "code",
      "execution_count": 169,
      "metadata": {
        "id": "r_fi5TWJTUUg"
      },
      "outputs": [],
      "source": [
        "#Initialzing Earth Engine\n",
        "ee.Initialize(project='sudan-1234')"
      ]
    },
    {
      "cell_type": "code",
      "execution_count": 170,
      "metadata": {
        "id": "lVuslxjbTUUg"
      },
      "outputs": [],
      "source": [
        "#loading in the LANDSAT7 image data\n",
        "COPERNICUS = ee.ImageCollection('COPERNICUS/S2_HARMONIZED')"
      ]
    },
    {
      "cell_type": "code",
      "execution_count": 170,
      "metadata": {
        "id": "YzRkhF7ZTUUg"
      },
      "outputs": [],
      "source": []
    },
    {
      "cell_type": "code",
      "execution_count": 171,
      "metadata": {
        "id": "ULLmz-62TUUg"
      },
      "outputs": [],
      "source": [
        "#loading in village data\n",
        "village_data = pd.read_csv('../content/drive/My Drive/Sudan_village_data/village_data.csv')"
      ]
    },
    {
      "cell_type": "code",
      "execution_count": 172,
      "metadata": {
        "colab": {
          "base_uri": "https://localhost:8080/",
          "height": 295
        },
        "id": "PsXV1rl5TUUh",
        "outputId": "eefad16a-dd93-4a0d-c6d8-44c5c92feb57"
      },
      "outputs": [
        {
          "output_type": "execute_result",
          "data": {
            "text/plain": [
              "      NAME LATITUDE     LAT_DD LONGITUDE    LONG_DD     STATUS     STRUCTURES  \\\n",
              "0      NaN   131857  13.315833   0244942  24.828333    DAMAGED     ~25 of ~50   \n",
              "1     DOLA   131905  13.318056   0245404  24.901111  DESTROYED   ~200 of ~200   \n",
              "2  LABABIS   131613  13.270278   0244822  24.806111  DESTROYED   ~100 of ~100   \n",
              "3    SURRI   131740  13.294444   0245013  24.836944  DESTROYED  ~250 of ~300    \n",
              "4  NANOREE   131813  13.303611   0245206  24.868333  DESTROYED    ~75 of ~100   \n",
              "\n",
              "  YR_CONFIRM  APROX_STR1  APROX_STR2  YR_RANGE1  YR_RANGE2  SEC_TOWN  \n",
              "0        NaN        25.0        50.0        NaN        NaN       NaN  \n",
              "1  2008/2009       200.0       200.0     2008.0     2009.0       NaN  \n",
              "2        NaN       100.0       100.0        NaN        NaN       NaN  \n",
              "3       2004       250.0       300.0     2004.0     2004.0       NaN  \n",
              "4  2003/2004        75.0       100.0     2003.0     2004.0       NaN  "
            ],
            "text/html": [
              "\n",
              "  <div id=\"df-ace2b004-1dff-429b-a918-5cd05b4b6291\" class=\"colab-df-container\">\n",
              "    <div>\n",
              "<style scoped>\n",
              "    .dataframe tbody tr th:only-of-type {\n",
              "        vertical-align: middle;\n",
              "    }\n",
              "\n",
              "    .dataframe tbody tr th {\n",
              "        vertical-align: top;\n",
              "    }\n",
              "\n",
              "    .dataframe thead th {\n",
              "        text-align: right;\n",
              "    }\n",
              "</style>\n",
              "<table border=\"1\" class=\"dataframe\">\n",
              "  <thead>\n",
              "    <tr style=\"text-align: right;\">\n",
              "      <th></th>\n",
              "      <th>NAME</th>\n",
              "      <th>LATITUDE</th>\n",
              "      <th>LAT_DD</th>\n",
              "      <th>LONGITUDE</th>\n",
              "      <th>LONG_DD</th>\n",
              "      <th>STATUS</th>\n",
              "      <th>STRUCTURES</th>\n",
              "      <th>YR_CONFIRM</th>\n",
              "      <th>APROX_STR1</th>\n",
              "      <th>APROX_STR2</th>\n",
              "      <th>YR_RANGE1</th>\n",
              "      <th>YR_RANGE2</th>\n",
              "      <th>SEC_TOWN</th>\n",
              "    </tr>\n",
              "  </thead>\n",
              "  <tbody>\n",
              "    <tr>\n",
              "      <th>0</th>\n",
              "      <td>NaN</td>\n",
              "      <td>131857</td>\n",
              "      <td>13.315833</td>\n",
              "      <td>0244942</td>\n",
              "      <td>24.828333</td>\n",
              "      <td>DAMAGED</td>\n",
              "      <td>~25 of ~50</td>\n",
              "      <td>NaN</td>\n",
              "      <td>25.0</td>\n",
              "      <td>50.0</td>\n",
              "      <td>NaN</td>\n",
              "      <td>NaN</td>\n",
              "      <td>NaN</td>\n",
              "    </tr>\n",
              "    <tr>\n",
              "      <th>1</th>\n",
              "      <td>DOLA</td>\n",
              "      <td>131905</td>\n",
              "      <td>13.318056</td>\n",
              "      <td>0245404</td>\n",
              "      <td>24.901111</td>\n",
              "      <td>DESTROYED</td>\n",
              "      <td>~200 of ~200</td>\n",
              "      <td>2008/2009</td>\n",
              "      <td>200.0</td>\n",
              "      <td>200.0</td>\n",
              "      <td>2008.0</td>\n",
              "      <td>2009.0</td>\n",
              "      <td>NaN</td>\n",
              "    </tr>\n",
              "    <tr>\n",
              "      <th>2</th>\n",
              "      <td>LABABIS</td>\n",
              "      <td>131613</td>\n",
              "      <td>13.270278</td>\n",
              "      <td>0244822</td>\n",
              "      <td>24.806111</td>\n",
              "      <td>DESTROYED</td>\n",
              "      <td>~100 of ~100</td>\n",
              "      <td>NaN</td>\n",
              "      <td>100.0</td>\n",
              "      <td>100.0</td>\n",
              "      <td>NaN</td>\n",
              "      <td>NaN</td>\n",
              "      <td>NaN</td>\n",
              "    </tr>\n",
              "    <tr>\n",
              "      <th>3</th>\n",
              "      <td>SURRI</td>\n",
              "      <td>131740</td>\n",
              "      <td>13.294444</td>\n",
              "      <td>0245013</td>\n",
              "      <td>24.836944</td>\n",
              "      <td>DESTROYED</td>\n",
              "      <td>~250 of ~300</td>\n",
              "      <td>2004</td>\n",
              "      <td>250.0</td>\n",
              "      <td>300.0</td>\n",
              "      <td>2004.0</td>\n",
              "      <td>2004.0</td>\n",
              "      <td>NaN</td>\n",
              "    </tr>\n",
              "    <tr>\n",
              "      <th>4</th>\n",
              "      <td>NANOREE</td>\n",
              "      <td>131813</td>\n",
              "      <td>13.303611</td>\n",
              "      <td>0245206</td>\n",
              "      <td>24.868333</td>\n",
              "      <td>DESTROYED</td>\n",
              "      <td>~75 of ~100</td>\n",
              "      <td>2003/2004</td>\n",
              "      <td>75.0</td>\n",
              "      <td>100.0</td>\n",
              "      <td>2003.0</td>\n",
              "      <td>2004.0</td>\n",
              "      <td>NaN</td>\n",
              "    </tr>\n",
              "  </tbody>\n",
              "</table>\n",
              "</div>\n",
              "    <div class=\"colab-df-buttons\">\n",
              "\n",
              "  <div class=\"colab-df-container\">\n",
              "    <button class=\"colab-df-convert\" onclick=\"convertToInteractive('df-ace2b004-1dff-429b-a918-5cd05b4b6291')\"\n",
              "            title=\"Convert this dataframe to an interactive table.\"\n",
              "            style=\"display:none;\">\n",
              "\n",
              "  <svg xmlns=\"http://www.w3.org/2000/svg\" height=\"24px\" viewBox=\"0 -960 960 960\">\n",
              "    <path d=\"M120-120v-720h720v720H120Zm60-500h600v-160H180v160Zm220 220h160v-160H400v160Zm0 220h160v-160H400v160ZM180-400h160v-160H180v160Zm440 0h160v-160H620v160ZM180-180h160v-160H180v160Zm440 0h160v-160H620v160Z\"/>\n",
              "  </svg>\n",
              "    </button>\n",
              "\n",
              "  <style>\n",
              "    .colab-df-container {\n",
              "      display:flex;\n",
              "      gap: 12px;\n",
              "    }\n",
              "\n",
              "    .colab-df-convert {\n",
              "      background-color: #E8F0FE;\n",
              "      border: none;\n",
              "      border-radius: 50%;\n",
              "      cursor: pointer;\n",
              "      display: none;\n",
              "      fill: #1967D2;\n",
              "      height: 32px;\n",
              "      padding: 0 0 0 0;\n",
              "      width: 32px;\n",
              "    }\n",
              "\n",
              "    .colab-df-convert:hover {\n",
              "      background-color: #E2EBFA;\n",
              "      box-shadow: 0px 1px 2px rgba(60, 64, 67, 0.3), 0px 1px 3px 1px rgba(60, 64, 67, 0.15);\n",
              "      fill: #174EA6;\n",
              "    }\n",
              "\n",
              "    .colab-df-buttons div {\n",
              "      margin-bottom: 4px;\n",
              "    }\n",
              "\n",
              "    [theme=dark] .colab-df-convert {\n",
              "      background-color: #3B4455;\n",
              "      fill: #D2E3FC;\n",
              "    }\n",
              "\n",
              "    [theme=dark] .colab-df-convert:hover {\n",
              "      background-color: #434B5C;\n",
              "      box-shadow: 0px 1px 3px 1px rgba(0, 0, 0, 0.15);\n",
              "      filter: drop-shadow(0px 1px 2px rgba(0, 0, 0, 0.3));\n",
              "      fill: #FFFFFF;\n",
              "    }\n",
              "  </style>\n",
              "\n",
              "    <script>\n",
              "      const buttonEl =\n",
              "        document.querySelector('#df-ace2b004-1dff-429b-a918-5cd05b4b6291 button.colab-df-convert');\n",
              "      buttonEl.style.display =\n",
              "        google.colab.kernel.accessAllowed ? 'block' : 'none';\n",
              "\n",
              "      async function convertToInteractive(key) {\n",
              "        const element = document.querySelector('#df-ace2b004-1dff-429b-a918-5cd05b4b6291');\n",
              "        const dataTable =\n",
              "          await google.colab.kernel.invokeFunction('convertToInteractive',\n",
              "                                                    [key], {});\n",
              "        if (!dataTable) return;\n",
              "\n",
              "        const docLinkHtml = 'Like what you see? Visit the ' +\n",
              "          '<a target=\"_blank\" href=https://colab.research.google.com/notebooks/data_table.ipynb>data table notebook</a>'\n",
              "          + ' to learn more about interactive tables.';\n",
              "        element.innerHTML = '';\n",
              "        dataTable['output_type'] = 'display_data';\n",
              "        await google.colab.output.renderOutput(dataTable, element);\n",
              "        const docLink = document.createElement('div');\n",
              "        docLink.innerHTML = docLinkHtml;\n",
              "        element.appendChild(docLink);\n",
              "      }\n",
              "    </script>\n",
              "  </div>\n",
              "\n",
              "\n",
              "<div id=\"df-3610a904-cf4a-4993-94f9-a32a332df7a8\">\n",
              "  <button class=\"colab-df-quickchart\" onclick=\"quickchart('df-3610a904-cf4a-4993-94f9-a32a332df7a8')\"\n",
              "            title=\"Suggest charts\"\n",
              "            style=\"display:none;\">\n",
              "\n",
              "<svg xmlns=\"http://www.w3.org/2000/svg\" height=\"24px\"viewBox=\"0 0 24 24\"\n",
              "     width=\"24px\">\n",
              "    <g>\n",
              "        <path d=\"M19 3H5c-1.1 0-2 .9-2 2v14c0 1.1.9 2 2 2h14c1.1 0 2-.9 2-2V5c0-1.1-.9-2-2-2zM9 17H7v-7h2v7zm4 0h-2V7h2v10zm4 0h-2v-4h2v4z\"/>\n",
              "    </g>\n",
              "</svg>\n",
              "  </button>\n",
              "\n",
              "<style>\n",
              "  .colab-df-quickchart {\n",
              "      --bg-color: #E8F0FE;\n",
              "      --fill-color: #1967D2;\n",
              "      --hover-bg-color: #E2EBFA;\n",
              "      --hover-fill-color: #174EA6;\n",
              "      --disabled-fill-color: #AAA;\n",
              "      --disabled-bg-color: #DDD;\n",
              "  }\n",
              "\n",
              "  [theme=dark] .colab-df-quickchart {\n",
              "      --bg-color: #3B4455;\n",
              "      --fill-color: #D2E3FC;\n",
              "      --hover-bg-color: #434B5C;\n",
              "      --hover-fill-color: #FFFFFF;\n",
              "      --disabled-bg-color: #3B4455;\n",
              "      --disabled-fill-color: #666;\n",
              "  }\n",
              "\n",
              "  .colab-df-quickchart {\n",
              "    background-color: var(--bg-color);\n",
              "    border: none;\n",
              "    border-radius: 50%;\n",
              "    cursor: pointer;\n",
              "    display: none;\n",
              "    fill: var(--fill-color);\n",
              "    height: 32px;\n",
              "    padding: 0;\n",
              "    width: 32px;\n",
              "  }\n",
              "\n",
              "  .colab-df-quickchart:hover {\n",
              "    background-color: var(--hover-bg-color);\n",
              "    box-shadow: 0 1px 2px rgba(60, 64, 67, 0.3), 0 1px 3px 1px rgba(60, 64, 67, 0.15);\n",
              "    fill: var(--button-hover-fill-color);\n",
              "  }\n",
              "\n",
              "  .colab-df-quickchart-complete:disabled,\n",
              "  .colab-df-quickchart-complete:disabled:hover {\n",
              "    background-color: var(--disabled-bg-color);\n",
              "    fill: var(--disabled-fill-color);\n",
              "    box-shadow: none;\n",
              "  }\n",
              "\n",
              "  .colab-df-spinner {\n",
              "    border: 2px solid var(--fill-color);\n",
              "    border-color: transparent;\n",
              "    border-bottom-color: var(--fill-color);\n",
              "    animation:\n",
              "      spin 1s steps(1) infinite;\n",
              "  }\n",
              "\n",
              "  @keyframes spin {\n",
              "    0% {\n",
              "      border-color: transparent;\n",
              "      border-bottom-color: var(--fill-color);\n",
              "      border-left-color: var(--fill-color);\n",
              "    }\n",
              "    20% {\n",
              "      border-color: transparent;\n",
              "      border-left-color: var(--fill-color);\n",
              "      border-top-color: var(--fill-color);\n",
              "    }\n",
              "    30% {\n",
              "      border-color: transparent;\n",
              "      border-left-color: var(--fill-color);\n",
              "      border-top-color: var(--fill-color);\n",
              "      border-right-color: var(--fill-color);\n",
              "    }\n",
              "    40% {\n",
              "      border-color: transparent;\n",
              "      border-right-color: var(--fill-color);\n",
              "      border-top-color: var(--fill-color);\n",
              "    }\n",
              "    60% {\n",
              "      border-color: transparent;\n",
              "      border-right-color: var(--fill-color);\n",
              "    }\n",
              "    80% {\n",
              "      border-color: transparent;\n",
              "      border-right-color: var(--fill-color);\n",
              "      border-bottom-color: var(--fill-color);\n",
              "    }\n",
              "    90% {\n",
              "      border-color: transparent;\n",
              "      border-bottom-color: var(--fill-color);\n",
              "    }\n",
              "  }\n",
              "</style>\n",
              "\n",
              "  <script>\n",
              "    async function quickchart(key) {\n",
              "      const quickchartButtonEl =\n",
              "        document.querySelector('#' + key + ' button');\n",
              "      quickchartButtonEl.disabled = true;  // To prevent multiple clicks.\n",
              "      quickchartButtonEl.classList.add('colab-df-spinner');\n",
              "      try {\n",
              "        const charts = await google.colab.kernel.invokeFunction(\n",
              "            'suggestCharts', [key], {});\n",
              "      } catch (error) {\n",
              "        console.error('Error during call to suggestCharts:', error);\n",
              "      }\n",
              "      quickchartButtonEl.classList.remove('colab-df-spinner');\n",
              "      quickchartButtonEl.classList.add('colab-df-quickchart-complete');\n",
              "    }\n",
              "    (() => {\n",
              "      let quickchartButtonEl =\n",
              "        document.querySelector('#df-3610a904-cf4a-4993-94f9-a32a332df7a8 button');\n",
              "      quickchartButtonEl.style.display =\n",
              "        google.colab.kernel.accessAllowed ? 'block' : 'none';\n",
              "    })();\n",
              "  </script>\n",
              "</div>\n",
              "\n",
              "    </div>\n",
              "  </div>\n"
            ],
            "application/vnd.google.colaboratory.intrinsic+json": {
              "type": "dataframe",
              "variable_name": "village_data",
              "summary": "{\n  \"name\": \"village_data\",\n  \"rows\": 9183,\n  \"fields\": [\n    {\n      \"column\": \"NAME\",\n      \"properties\": {\n        \"dtype\": \"category\",\n        \"num_unique_values\": 2716,\n        \"samples\": [\n          \"BILALA SCHERIG\",\n          \"YONKA\",\n          \"TUNDUR\"\n        ],\n        \"semantic_type\": \"\",\n        \"description\": \"\"\n      }\n    },\n    {\n      \"column\": \"LATITUDE\",\n      \"properties\": {\n        \"dtype\": \"string\",\n        \"num_unique_values\": 6946,\n        \"samples\": [\n          \"140638\",\n          \"111400\",\n          \"131658\"\n        ],\n        \"semantic_type\": \"\",\n        \"description\": \"\"\n      }\n    },\n    {\n      \"column\": \"LAT_DD\",\n      \"properties\": {\n        \"dtype\": \"number\",\n        \"std\": 1.189393232752333,\n        \"min\": 9.27333333,\n        \"max\": 15.58888889,\n        \"num_unique_values\": 6951,\n        \"samples\": [\n          12.92694444,\n          14.25555556,\n          11.75277778\n        ],\n        \"semantic_type\": \"\",\n        \"description\": \"\"\n      }\n    },\n    {\n      \"column\": \"LONGITUDE\",\n      \"properties\": {\n        \"dtype\": \"string\",\n        \"num_unique_values\": 6746,\n        \"samples\": [\n          \"0255113\",\n          \"0243154\",\n          \"0243404\"\n        ],\n        \"semantic_type\": \"\",\n        \"description\": \"\"\n      }\n    },\n    {\n      \"column\": \"LONG_DD\",\n      \"properties\": {\n        \"dtype\": \"number\",\n        \"std\": 1.1180021627746441,\n        \"min\": 21.835,\n        \"max\": 27.39,\n        \"num_unique_values\": 6720,\n        \"samples\": [\n          23.87638889,\n          25.17027778,\n          22.81444444\n        ],\n        \"semantic_type\": \"\",\n        \"description\": \"\"\n      }\n    },\n    {\n      \"column\": \"STATUS\",\n      \"properties\": {\n        \"dtype\": \"category\",\n        \"num_unique_values\": 5,\n        \"samples\": [\n          \"DESTROYED\",\n          \"NO DAMAGE \",\n          \"NO DAMAGE\"\n        ],\n        \"semantic_type\": \"\",\n        \"description\": \"\"\n      }\n    },\n    {\n      \"column\": \"STRUCTURES\",\n      \"properties\": {\n        \"dtype\": \"category\",\n        \"num_unique_values\": 144,\n        \"samples\": [\n          \"~50 of ~250\",\n          \"~75 of ~75\",\n          \"~100 of ~200  \"\n        ],\n        \"semantic_type\": \"\",\n        \"description\": \"\"\n      }\n    },\n    {\n      \"column\": \"YR_CONFIRM\",\n      \"properties\": {\n        \"dtype\": \"category\",\n        \"num_unique_values\": 14,\n        \"samples\": [\n          \"2010\",\n          \"2005\",\n          \"2008/2009\"\n        ],\n        \"semantic_type\": \"\",\n        \"description\": \"\"\n      }\n    },\n    {\n      \"column\": \"APROX_STR1\",\n      \"properties\": {\n        \"dtype\": \"number\",\n        \"std\": 142.71711080242403,\n        \"min\": 5.0,\n        \"max\": 1500.0,\n        \"num_unique_values\": 28,\n        \"samples\": [\n          400.0,\n          800.0,\n          10.0\n        ],\n        \"semantic_type\": \"\",\n        \"description\": \"\"\n      }\n    },\n    {\n      \"column\": \"APROX_STR2\",\n      \"properties\": {\n        \"dtype\": \"number\",\n        \"std\": 183.34584939594583,\n        \"min\": 10.0,\n        \"max\": 4000.0,\n        \"num_unique_values\": 34,\n        \"samples\": [\n          400.0,\n          72.0,\n          750.0\n        ],\n        \"semantic_type\": \"\",\n        \"description\": \"\"\n      }\n    },\n    {\n      \"column\": \"YR_RANGE1\",\n      \"properties\": {\n        \"dtype\": \"number\",\n        \"std\": 1.5317432104420041,\n        \"min\": 2003.0,\n        \"max\": 2010.0,\n        \"num_unique_values\": 8,\n        \"samples\": [\n          2004.0,\n          2006.0,\n          2008.0\n        ],\n        \"semantic_type\": \"\",\n        \"description\": \"\"\n      }\n    },\n    {\n      \"column\": \"YR_RANGE2\",\n      \"properties\": {\n        \"dtype\": \"number\",\n        \"std\": 1.5282956566104726,\n        \"min\": 2003.0,\n        \"max\": 2010.0,\n        \"num_unique_values\": 8,\n        \"samples\": [\n          2004.0,\n          2005.0,\n          2009.0\n        ],\n        \"semantic_type\": \"\",\n        \"description\": \"\"\n      }\n    },\n    {\n      \"column\": \"SEC_TOWN\",\n      \"properties\": {\n        \"dtype\": \"number\",\n        \"std\": 0.0,\n        \"min\": 1.0,\n        \"max\": 1.0,\n        \"num_unique_values\": 1,\n        \"samples\": [\n          1.0\n        ],\n        \"semantic_type\": \"\",\n        \"description\": \"\"\n      }\n    }\n  ]\n}"
            }
          },
          "metadata": {},
          "execution_count": 172
        }
      ],
      "source": [
        "village_data.head()"
      ]
    },
    {
      "cell_type": "code",
      "source": [
        "#add id column\n",
        "village_data['ID'] = village_data.index"
      ],
      "metadata": {
        "id": "H2bQDcisRZrT"
      },
      "execution_count": 173,
      "outputs": []
    },
    {
      "cell_type": "code",
      "execution_count": 174,
      "metadata": {
        "id": "5gbrxi-9TUUh"
      },
      "outputs": [],
      "source": [
        "#dropping irrelevant columns\n",
        "village_data = village_data[[\"ID\",\"LAT_DD\", \"LONG_DD\", \"STATUS\", \"YR_CONFIRM\"]]"
      ]
    },
    {
      "cell_type": "code",
      "execution_count": 175,
      "metadata": {
        "id": "RLU4AQ73TUUh"
      },
      "outputs": [],
      "source": [
        "village_data = village_data[:100]"
      ]
    },
    {
      "cell_type": "code",
      "execution_count": 176,
      "metadata": {
        "id": "ZBek_tjzTUUh"
      },
      "outputs": [],
      "source": [
        "#spliting yr_confirm into a list of multiple years\n",
        "village_data['YR_CONFIRM'] = village_data['YR_CONFIRM'].str.split('/')\n",
        "\n",
        "#selecting the last year\n",
        "village_data['YR_CONFIRM'] = village_data['YR_CONFIRM'].apply(lambda x: x if x is np.nan else x[-1])\n"
      ]
    },
    {
      "cell_type": "code",
      "execution_count": 176,
      "metadata": {
        "id": "DUlgF0GpTUUh"
      },
      "outputs": [],
      "source": []
    },
    {
      "cell_type": "code",
      "execution_count": 177,
      "metadata": {
        "colab": {
          "base_uri": "https://localhost:8080/",
          "height": 843
        },
        "id": "lSh5Y8vqTUUh",
        "outputId": "3402d856-3a3a-43d5-f913-d6d98db9f592"
      },
      "outputs": [
        {
          "output_type": "display_data",
          "data": {
            "text/plain": [
              "<Figure size 640x480 with 1 Axes>"
            ],
            "image/png": "[encoded data removed]"
          },
          "metadata": {}
        },
        {
          "output_type": "display_data",
          "data": {
            "text/plain": [
              "<Figure size 640x480 with 1 Axes>"
            ],
            "image/png": "[encoded data removed]"
          },
          "metadata": {}
        }
      ],
      "source": [
        "#plotting histograms of categorial data\n",
        "village_data['STATUS'].hist()\n",
        "plt.show()\n",
        "\n",
        "village_data['YR_CONFIRM'] = village_data['YR_CONFIRM'].astype(float)\n",
        "village_data['YR_CONFIRM'].hist()\n",
        "plt.show()"
      ]
    },
    {
      "cell_type": "code",
      "execution_count": 178,
      "metadata": {
        "colab": {
          "base_uri": "https://localhost:8080/",
          "height": 303
        },
        "id": "2WsQzYKRTUUh",
        "outputId": "c2b9bdc1-7cf4-401b-e475-cb0e04283518"
      },
      "outputs": [
        {
          "output_type": "execute_result",
          "data": {
            "text/plain": [
              "YR_CONFIRM\n",
              "2004.0    33\n",
              "2006.0    20\n",
              "2007.0    12\n",
              "2005.0     2\n",
              "2009.0     1\n",
              "2003.0     1\n",
              "Name: count, dtype: int64"
            ],
            "text/html": [
              "<div>\n",
              "<style scoped>\n",
              "    .dataframe tbody tr th:only-of-type {\n",
              "        vertical-align: middle;\n",
              "    }\n",
              "\n",
              "    .dataframe tbody tr th {\n",
              "        vertical-align: top;\n",
              "    }\n",
              "\n",
              "    .dataframe thead th {\n",
              "        text-align: right;\n",
              "    }\n",
              "</style>\n",
              "<table border=\"1\" class=\"dataframe\">\n",
              "  <thead>\n",
              "    <tr style=\"text-align: right;\">\n",
              "      <th></th>\n",
              "      <th>count</th>\n",
              "    </tr>\n",
              "    <tr>\n",
              "      <th>YR_CONFIRM</th>\n",
              "      <th></th>\n",
              "    </tr>\n",
              "  </thead>\n",
              "  <tbody>\n",
              "    <tr>\n",
              "      <th>2004.0</th>\n",
              "      <td>33</td>\n",
              "    </tr>\n",
              "    <tr>\n",
              "      <th>2006.0</th>\n",
              "      <td>20</td>\n",
              "    </tr>\n",
              "    <tr>\n",
              "      <th>2007.0</th>\n",
              "      <td>12</td>\n",
              "    </tr>\n",
              "    <tr>\n",
              "      <th>2005.0</th>\n",
              "      <td>2</td>\n",
              "    </tr>\n",
              "    <tr>\n",
              "      <th>2009.0</th>\n",
              "      <td>1</td>\n",
              "    </tr>\n",
              "    <tr>\n",
              "      <th>2003.0</th>\n",
              "      <td>1</td>\n",
              "    </tr>\n",
              "  </tbody>\n",
              "</table>\n",
              "</div><br><label><b>dtype:</b> int64</label>"
            ]
          },
          "metadata": {},
          "execution_count": 178
        }
      ],
      "source": [
        "#value counts for YR_CONFIRM\n",
        "village_data['YR_CONFIRM'].value_counts()"
      ]
    },
    {
      "cell_type": "code",
      "execution_count": 179,
      "metadata": {
        "colab": {
          "base_uri": "https://localhost:8080/",
          "height": 209
        },
        "id": "WPuxuc-iTUUh",
        "outputId": "222c1765-0c68-451d-8a12-344950bc7e9c"
      },
      "outputs": [
        {
          "output_type": "execute_result",
          "data": {
            "text/plain": [
              "STATUS\n",
              "DESTROYED    65\n",
              "NO DAMAGE    21\n",
              "DAMAGED      14\n",
              "Name: count, dtype: int64"
            ],
            "text/html": [
              "<div>\n",
              "<style scoped>\n",
              "    .dataframe tbody tr th:only-of-type {\n",
              "        vertical-align: middle;\n",
              "    }\n",
              "\n",
              "    .dataframe tbody tr th {\n",
              "        vertical-align: top;\n",
              "    }\n",
              "\n",
              "    .dataframe thead th {\n",
              "        text-align: right;\n",
              "    }\n",
              "</style>\n",
              "<table border=\"1\" class=\"dataframe\">\n",
              "  <thead>\n",
              "    <tr style=\"text-align: right;\">\n",
              "      <th></th>\n",
              "      <th>count</th>\n",
              "    </tr>\n",
              "    <tr>\n",
              "      <th>STATUS</th>\n",
              "      <th></th>\n",
              "    </tr>\n",
              "  </thead>\n",
              "  <tbody>\n",
              "    <tr>\n",
              "      <th>DESTROYED</th>\n",
              "      <td>65</td>\n",
              "    </tr>\n",
              "    <tr>\n",
              "      <th>NO DAMAGE</th>\n",
              "      <td>21</td>\n",
              "    </tr>\n",
              "    <tr>\n",
              "      <th>DAMAGED</th>\n",
              "      <td>14</td>\n",
              "    </tr>\n",
              "  </tbody>\n",
              "</table>\n",
              "</div><br><label><b>dtype:</b> int64</label>"
            ]
          },
          "metadata": {},
          "execution_count": 179
        }
      ],
      "source": [
        "village_data[\"STATUS\"].value_counts()"
      ]
    },
    {
      "cell_type": "code",
      "execution_count": 180,
      "metadata": {
        "id": "Nsr9NXFVTUUi"
      },
      "outputs": [],
      "source": [
        "#seperating the village data into one dataframe of of damaged and destroyed villages and one of undamaged villages\n",
        "damaged_villages = village_data[village_data['STATUS'].isin([\"DAMAGED\", \"DESTROYED\"])]\n",
        "undamaged_villages = village_data[village_data['STATUS'] == \"NO DAMAGE\"]"
      ]
    },
    {
      "cell_type": "code",
      "execution_count": 181,
      "metadata": {
        "colab": {
          "base_uri": "https://localhost:8080/"
        },
        "id": "f_ApRfUdTUUi",
        "outputId": "b32c3de7-0411-404e-8758-7ee5668a8bd9"
      },
      "outputs": [
        {
          "output_type": "stream",
          "name": "stderr",
          "text": [
            "<ipython-input-181-69f38f24abc1>:2: SettingWithCopyWarning: \n",
            "A value is trying to be set on a copy of a slice from a DataFrame.\n",
            "Try using .loc[row_indexer,col_indexer] = value instead\n",
            "\n",
            "See the caveats in the documentation: https://pandas.pydata.org/pandas-docs/stable/user_guide/indexing.html#returning-a-view-versus-a-copy\n",
            "  damaged_villages['STATUS'] = damaged_villages['STATUS'].apply(lambda x: 'DAMAGED')\n"
          ]
        }
      ],
      "source": [
        "#merging status of damaged villages into one category called \"DAMAGED\"\n",
        "damaged_villages['STATUS'] = damaged_villages['STATUS'].apply(lambda x: 'DAMAGED')"
      ]
    },
    {
      "cell_type": "code",
      "execution_count": 182,
      "metadata": {
        "id": "A4Ao7r6NTUUi"
      },
      "outputs": [],
      "source": [
        "#limiting damaged villages to be after 2006\n",
        "damaged_villages = damaged_villages[damaged_villages['YR_CONFIRM'] >= 2006]\n"
      ]
    },
    {
      "cell_type": "code",
      "execution_count": 183,
      "metadata": {
        "colab": {
          "base_uri": "https://localhost:8080/",
          "height": 447
        },
        "id": "ylO0l7ocTUUi",
        "outputId": "1c0fbbef-b454-4128-9720-2fd16eb4af9a"
      },
      "outputs": [
        {
          "output_type": "execute_result",
          "data": {
            "text/plain": [
              "<Axes: >"
            ]
          },
          "metadata": {},
          "execution_count": 183
        },
        {
          "output_type": "display_data",
          "data": {
            "text/plain": [
              "<Figure size 640x480 with 1 Axes>"
            ],
            "image/png": "[encoded data removed]"
          },
          "metadata": {}
        }
      ],
      "source": [
        "damaged_villages[\"STATUS\"].hist()"
      ]
    },
    {
      "cell_type": "code",
      "execution_count": 184,
      "metadata": {
        "colab": {
          "base_uri": "https://localhost:8080/"
        },
        "id": "_URNLaoOTUUi",
        "outputId": "68701c27-1715-47bb-9162-f8e3fcc356f7"
      },
      "outputs": [
        {
          "output_type": "stream",
          "name": "stdout",
          "text": [
            "33\n",
            "21\n"
          ]
        }
      ],
      "source": [
        "print(len(damaged_villages))\n",
        "print(len(undamaged_villages))"
      ]
    },
    {
      "cell_type": "code",
      "execution_count": 185,
      "metadata": {
        "id": "fjU15M-ATUUi"
      },
      "outputs": [],
      "source": [
        "#speicifying year 2017\n",
        "start_date = '2017-04-01'\n",
        "end_date = '2017-12-31'\n",
        "\n",
        "COPERNICUS = COPERNICUS.filterDate(start_date, end_date)"
      ]
    },
    {
      "cell_type": "code",
      "execution_count": 185,
      "metadata": {
        "id": "Fohitfm-TUUi"
      },
      "outputs": [],
      "source": []
    },
    {
      "cell_type": "code",
      "execution_count": 186,
      "metadata": {
        "id": "BWkT9FAMTUUi"
      },
      "outputs": [],
      "source": [
        "#creates a feature collection of all the village data from LANDSAT7 data, geometry box with 50 meter buffer around coordinates for village and two properties: village status (No damage, or damage) and id\n",
        "\n",
        "no_damage = ee.FeatureCollection(undamaged_villages.apply(lambda x: ee.Feature(ee.Geometry.BBox(x['LONG_DD']-0.0005, x['LAT_DD']-0.0005, x['LONG_DD']+0.0005, x['LAT_DD']+0.0005), {'STATUS': 'NO DAMAGE', 'ID': x['ID']}), axis=1).tolist())\n",
        "damaged = ee.FeatureCollection(damaged_villages.apply(lambda x: ee.Feature(ee.Geometry.BBox(x['LONG_DD']-0.0005, x['LAT_DD']-0.0005, x['LONG_DD']+0.0005, x['LAT_DD']+0.0005), {'STATUS': 'DAMAGED', 'ID': x['ID']}), axis=1).tolist())\n",
        "\n"
      ]
    },
    {
      "cell_type": "code",
      "execution_count": 187,
      "metadata": {
        "id": "o08HYxIzTUUi"
      },
      "outputs": [],
      "source": [
        "#combine into single feature collection\n",
        "villages = ee.FeatureCollection([no_damage, damaged]).flatten()"
      ]
    },
    {
      "cell_type": "code",
      "source": [],
      "metadata": {
        "id": "yeQLwNTmN7AP"
      },
      "execution_count": 187,
      "outputs": []
    },
    {
      "cell_type": "code",
      "execution_count": 188,
      "metadata": {
        "colab": {
          "base_uri": "https://localhost:8080/"
        },
        "id": "MGr3-J-STUUi",
        "outputId": "d522c66c-879c-438a-d2f2-d1f01b6c2c17"
      },
      "outputs": [
        {
          "output_type": "execute_result",
          "data": {
            "text/plain": [
              "{'type': 'Feature',\n",
              " 'geometry': {'geodesic': False,\n",
              "  'type': 'Polygon',\n",
              "  'coordinates': [[[22.52366667, 12.689499999999999],\n",
              "    [22.52466667, 12.689499999999999],\n",
              "    [22.52466667, 12.6905],\n",
              "    [22.52366667, 12.6905],\n",
              "    [22.52366667, 12.689499999999999]]]},\n",
              " 'id': '0_0',\n",
              " 'properties': {'ID': 13, 'STATUS': 'NO DAMAGE'}}"
            ]
          },
          "metadata": {},
          "execution_count": 188
        }
      ],
      "source": [
        "villages.first().getInfo()"
      ]
    },
    {
      "cell_type": "code",
      "execution_count": 189,
      "metadata": {
        "id": "2_UgMt5QTUUi"
      },
      "outputs": [],
      "source": [
        "#make a cloud free composite for sentinel copernicus data and rename bands to those of first entry in copernicus\n",
        "composite = COPERNICUS.reduce(ee.Reducer.median()).rename(COPERNICUS.first().bandNames())"
      ]
    },
    {
      "cell_type": "code",
      "execution_count": 189,
      "metadata": {
        "id": "9sNrav1MTUUj"
      },
      "outputs": [],
      "source": []
    },
    {
      "cell_type": "code",
      "source": [
        "type(composite)"
      ],
      "metadata": {
        "colab": {
          "base_uri": "https://localhost:8080/",
          "height": 120
        },
        "id": "n5WWNg-M-f2Z",
        "outputId": "0261fec5-7c2a-405e-92a8-a493be6e3339"
      },
      "execution_count": 190,
      "outputs": [
        {
          "output_type": "execute_result",
          "data": {
            "text/plain": [
              "ee.image.Image"
            ],
            "text/html": [
              "<div style=\"max-width:800px; border: 1px solid var(--colab-border-color);\"><style>\n",
              "      pre.function-repr-contents {\n",
              "        overflow-x: auto;\n",
              "        padding: 8px 12px;\n",
              "        max-height: 500px;\n",
              "      }\n",
              "\n",
              "      pre.function-repr-contents.function-repr-contents-collapsed {\n",
              "        cursor: pointer;\n",
              "        max-height: 100px;\n",
              "      }\n",
              "    </style>\n",
              "    <pre style=\"white-space: initial; background:\n",
              "         var(--colab-secondary-surface-color); padding: 8px 12px;\n",
              "         border-bottom: 1px solid var(--colab-border-color);\"><b>ee.image.Image</b><br/>def __call__(cls, *args, **kwargs)</pre><pre class=\"function-repr-contents function-repr-contents-collapsed\" style=\"\"><a class=\"filepath\" style=\"display:none\" href=\"#\">/usr/local/lib/python3.10/dist-packages/ee/image.py</a>An object to represent an Earth Engine image.</pre>\n",
              "      <script>\n",
              "      if (google.colab.kernel.accessAllowed && google.colab.files && google.colab.files.view) {\n",
              "        for (const element of document.querySelectorAll('.filepath')) {\n",
              "          element.style.display = 'block'\n",
              "          element.onclick = (event) => {\n",
              "            event.preventDefault();\n",
              "            event.stopPropagation();\n",
              "            google.colab.files.view(element.textContent, 88);\n",
              "          };\n",
              "        }\n",
              "      }\n",
              "      for (const element of document.querySelectorAll('.function-repr-contents')) {\n",
              "        element.onclick = (event) => {\n",
              "          event.preventDefault();\n",
              "          event.stopPropagation();\n",
              "          element.classList.toggle('function-repr-contents-collapsed');\n",
              "        };\n",
              "      }\n",
              "      </script>\n",
              "      </div>"
            ]
          },
          "metadata": {},
          "execution_count": 190
        }
      ]
    },
    {
      "cell_type": "code",
      "execution_count": 191,
      "metadata": {
        "id": "6aSt5m9fTUUj"
      },
      "outputs": [],
      "source": [
        "#specify bands and property name also add B8 - B12\n",
        "bands = ['B2', 'B3', 'B4', 'B8', 'B11', 'B5', 'B6', 'B7']\n"
      ]
    },
    {
      "cell_type": "code",
      "source": [],
      "metadata": {
        "id": "h_qaimQxVQeP"
      },
      "execution_count": 191,
      "outputs": []
    },
    {
      "cell_type": "code",
      "execution_count": 192,
      "metadata": {
        "id": "c3l5jR33TUUj"
      },
      "outputs": [],
      "source": [
        "#create training data with sampleRegions\n",
        "training = composite.select(bands).sampleRegions(\n",
        "    collection = villages,\n",
        "    properties = ['STATUS', 'ID'],\n",
        "    scale = 10,\n",
        "    geometries = True\n",
        ")\n"
      ]
    },
    {
      "cell_type": "code",
      "execution_count": 193,
      "metadata": {
        "colab": {
          "base_uri": "https://localhost:8080/"
        },
        "id": "oTWhk3LBTUUj",
        "outputId": "d08c60e3-e23c-47b0-9efc-d4edb0b34e53"
      },
      "outputs": [
        {
          "output_type": "execute_result",
          "data": {
            "text/plain": [
              "{'type': 'Feature',\n",
              " 'geometry': {'geodesic': False,\n",
              "  'type': 'Point',\n",
              "  'coordinates': [22.523683697549792, 12.689556787708154]},\n",
              " 'id': '0_0_0',\n",
              " 'properties': {'B11': 3651,\n",
              "  'B2': 1321.5,\n",
              "  'B3': 1430,\n",
              "  'B4': 1908,\n",
              "  'B5': 2211.5,\n",
              "  'B6': 2778,\n",
              "  'B7': 3142,\n",
              "  'B8': 2912.5,\n",
              "  'ID': 13,\n",
              "  'STATUS': 'NO DAMAGE'}}"
            ]
          },
          "metadata": {},
          "execution_count": 193
        }
      ],
      "source": [
        "training.first().getInfo()"
      ]
    },
    {
      "cell_type": "code",
      "execution_count": 194,
      "metadata": {
        "id": "2ErWe841TUUj"
      },
      "outputs": [],
      "source": [
        "#add NBR to training\n",
        "training = training.map(lambda feature: feature.set(\n",
        "    'NBR', (ee.Number(feature.get('B8')).subtract(ee.Number(feature.get('B11'))).divide(ee.Number(feature.get('B8')).add(ee.Number(feature.get('B11')))))\n",
        "    )\n",
        "  )\n"
      ]
    },
    {
      "cell_type": "code",
      "source": [
        "training = training.randomColumn('random')"
      ],
      "metadata": {
        "id": "xrWmI9MGyew0"
      },
      "execution_count": 195,
      "outputs": []
    },
    {
      "cell_type": "code",
      "execution_count": 196,
      "metadata": {
        "id": "gE4haa3MTUUj"
      },
      "outputs": [],
      "source": [
        "#create partitions\n",
        "split = 0.7\n",
        "training_partition = training.filter(ee.Filter.lt('random', split))\n",
        "testing_partition = training.filter(ee.Filter.gte('random', split))"
      ]
    },
    {
      "cell_type": "code",
      "source": [
        "#break up training_partition into 5 different collections and upload them all to training_partition folder\n",
        "\n",
        "task = ee.batch.Export.table.toDrive(\n",
        "    collection = training_partition,\n",
        "    description = 'training_partition',\n",
        "    folder = 'training_partition',\n",
        "    fileFormat = 'CSV'\n",
        ")\n",
        "task.start()"
      ],
      "metadata": {
        "id": "v9qJLdOTtsjr"
      },
      "execution_count": 197,
      "outputs": []
    },
    {
      "cell_type": "code",
      "source": [
        "task.status()"
      ],
      "metadata": {
        "colab": {
          "base_uri": "https://localhost:8080/"
        },
        "id": "ba8P1yq_wIpW",
        "outputId": "e4357378-488c-405b-ef0e-c1a09f972c73"
      },
      "execution_count": 202,
      "outputs": [
        {
          "output_type": "execute_result",
          "data": {
            "text/plain": [
              "{'state': 'COMPLETED',\n",
              " 'description': 'training_partition',\n",
              " 'priority': 100,\n",
              " 'creation_timestamp_ms': 1723930780956,\n",
              " 'update_timestamp_ms': 1723930795675,\n",
              " 'start_timestamp_ms': 1723930785994,\n",
              " 'task_type': 'EXPORT_FEATURES',\n",
              " 'destination_uris': ['https://drive.google.com/#folders/1c4JFo5duzfgN99CPVfpl6iyE_Nu5bF33'],\n",
              " 'attempt': 1,\n",
              " 'batch_eecu_usage_seconds': 2.858908176422119,\n",
              " 'id': 'BCS43NVGYKUMZNUQHSAXGQJ3',\n",
              " 'name': 'projects/sudan-1234/operations/BCS43NVGYKUMZNUQHSAXGQJ3'}"
            ]
          },
          "metadata": {},
          "execution_count": 202
        }
      ]
    }
  ],
  "metadata": {
    "kernelspec": {
      "display_name": "Python 3",
      "name": "python3"
    },
    "language_info": {
      "codemirror_mode": {
        "name": "ipython",
        "version": 3
      },
      "file_extension": ".py",
      "mimetype": "text/x-python",
      "name": "python",
      "nbconvert_exporter": "python",
      "pygments_lexer": "ipython3",
      "version": "3.10.11"
    },
    "colab": {
      "provenance": [],
      "toc_visible": true,
      "machine_shape": "hm"
    }
  },
  "nbformat": 4,
  "nbformat_minor": 0
}